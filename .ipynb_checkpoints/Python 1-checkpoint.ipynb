{
 "cells": [
  {
   "cell_type": "markdown",
   "id": "70a6cfae",
   "metadata": {},
   "source": [
    "### Exercise Variables - 1\n",
    "Create a firstName variable and assign the value Mario to it."
   ]
  },
  {
   "cell_type": "code",
   "execution_count": 1,
   "id": "0fd6fdd9",
   "metadata": {},
   "outputs": [],
   "source": [
    "firstName = 'Mario'"
   ]
  },
  {
   "cell_type": "markdown",
   "id": "d54d3f07",
   "metadata": {},
   "source": [
    "### Exercise Variables - 2\n",
    "Create an age variable and assign the value 25 to it."
   ]
  },
  {
   "cell_type": "code",
   "execution_count": 2,
   "id": "fc7073f7",
   "metadata": {},
   "outputs": [],
   "source": [
    "age = 25"
   ]
  },
  {
   "cell_type": "markdown",
   "id": "03d1065c",
   "metadata": {},
   "source": [
    "### Exercise Variables - 3\n",
    "Create a sentence variable and assign the value Hello, I'm Mario! to it without using double quotes."
   ]
  },
  {
   "cell_type": "code",
   "execution_count": 3,
   "id": "b0efd5ce",
   "metadata": {},
   "outputs": [],
   "source": [
    "sentence = '''Hello, I'm Mario!'''"
   ]
  },
  {
   "cell_type": "markdown",
   "id": "92d19883",
   "metadata": {},
   "source": [
    "### Exercise Variables - 4\n",
    "Create an amount variable and assign a float value to it."
   ]
  },
  {
   "cell_type": "code",
   "execution_count": 4,
   "id": "5fe7459b",
   "metadata": {},
   "outputs": [],
   "source": [
    "amount = 1."
   ]
  },
  {
   "cell_type": "markdown",
   "id": "2810c044",
   "metadata": {},
   "source": [
    "### Exercise Variables - 5\n",
    "Create a set of 3 variables and assign True as value of each one."
   ]
  },
  {
   "cell_type": "code",
   "execution_count": 5,
   "id": "75c8d8a8",
   "metadata": {},
   "outputs": [],
   "source": [
    "a = True\n",
    "b = True\n",
    "c = True\n",
    "set_abc = set((a, b, c))"
   ]
  },
  {
   "cell_type": "markdown",
   "id": "c1c0563a",
   "metadata": {},
   "source": [
    "### Exercise Variables - 6\n",
    "Remove the illegal characters in the variable 1my-first2_Name = 'Mario'."
   ]
  },
  {
   "cell_type": "code",
   "execution_count": 6,
   "id": "95e06c08",
   "metadata": {},
   "outputs": [],
   "source": [
    "string = \"1my-first2_Name = 'Mario'\"\n",
    "\n",
    "special_characters='[@_!#$%^&*()<>?/\\|}{~:]'\n",
    "\n",
    "for i in special_characters:\n",
    "    string=string.replace(i,\"\")"
   ]
  },
  {
   "cell_type": "code",
   "execution_count": 7,
   "id": "e7ff7c09",
   "metadata": {},
   "outputs": [
    {
     "data": {
      "text/plain": [
       "\"1my-first2Name = 'Mario'\""
      ]
     },
     "execution_count": 7,
     "metadata": {},
     "output_type": "execute_result"
    }
   ],
   "source": [
    "string"
   ]
  },
  {
   "cell_type": "markdown",
   "id": "424604fb",
   "metadata": {},
   "source": [
    "### Exercise Variables - 7\n",
    "Write single quotes or double quotes correctly"
   ]
  },
  {
   "cell_type": "code",
   "execution_count": 8,
   "id": "38d70066",
   "metadata": {},
   "outputs": [
    {
     "name": "stdout",
     "output_type": "stream",
     "text": [
      "Hi\n",
      "my name is\n",
      "John Doe\n"
     ]
    }
   ],
   "source": [
    "print(\"Hi\\nmy name is\\nJohn Doe\")"
   ]
  },
  {
   "cell_type": "code",
   "execution_count": 9,
   "id": "c82e5713",
   "metadata": {},
   "outputs": [
    {
     "name": "stdout",
     "output_type": "stream",
     "text": [
      "python\n"
     ]
    }
   ],
   "source": [
    "print('python')"
   ]
  },
  {
   "cell_type": "markdown",
   "id": "7f3d3482",
   "metadata": {},
   "source": [
    "### Exercise Variables - 8\n",
    "Create 3 different variables and assign 3 different values. Write only one operation. Print them on terminal"
   ]
  },
  {
   "cell_type": "code",
   "execution_count": 10,
   "id": "a3fce22f",
   "metadata": {},
   "outputs": [
    {
     "name": "stdout",
     "output_type": "stream",
     "text": [
      "2\n"
     ]
    }
   ],
   "source": [
    "a = 321\n",
    "b = 5\n",
    "c = 2\n",
    "\n",
    "print(a >> b >> c)"
   ]
  },
  {
   "cell_type": "markdown",
   "id": "5e242a7a",
   "metadata": {},
   "source": [
    "### Exercise Variables - 9\n",
    "Swap the value of the variables"
   ]
  },
  {
   "cell_type": "code",
   "execution_count": 11,
   "id": "e73a7166",
   "metadata": {},
   "outputs": [
    {
     "name": "stdout",
     "output_type": "stream",
     "text": [
      "12 Hello\n",
      "Hello 12\n"
     ]
    }
   ],
   "source": [
    "a = 12\n",
    "b = 'Hello'\n",
    "print(a, b)\n",
    "\n",
    "temp = a\n",
    "a = b \n",
    "b = temp\n",
    "print(a, b)"
   ]
  },
  {
   "cell_type": "markdown",
   "id": "343f354e",
   "metadata": {},
   "source": [
    "### Exercise Variables - 10\n",
    "Print the length of each variable."
   ]
  },
  {
   "cell_type": "code",
   "execution_count": 12,
   "id": "49aaee15",
   "metadata": {},
   "outputs": [
    {
     "name": "stdout",
     "output_type": "stream",
     "text": [
      "Length of string variables hello, name and age are 6, 8, 2\n"
     ]
    }
   ],
   "source": [
    "hello = 'Hello!'\n",
    "name = 'Jhon Doe'\n",
    "age = '40'\n",
    "\n",
    "print(f\"Length of string variables hello, name and age are {len(hello)}, {len(name)}, {len(age)}\")"
   ]
  },
  {
   "cell_type": "markdown",
   "id": "eb6b1dd0",
   "metadata": {},
   "source": [
    "### Exercise Variables - 11\n",
    "Modify the variables as suggested\n",
    "\n",
    "a = 'hello' #capitalize\n",
    "<br>b = 'tom' #uppercase\n",
    "<br>c = 'LAURA' #lowercase\n",
    "<br>question = 'How are you' #change o to e\n",
    "<br>age_question = 'How old are you?' #use the correct method to create a string for each word\n",
    "<br>print(a, b, c, question, age_question)"
   ]
  },
  {
   "cell_type": "code",
   "execution_count": 13,
   "id": "50fca8db",
   "metadata": {},
   "outputs": [
    {
     "name": "stdout",
     "output_type": "stream",
     "text": [
      "Hello\n",
      "TOM\n",
      "laura\n",
      "Hew are yeu\n",
      "['How', 'old', 'are', 'you?']\n"
     ]
    }
   ],
   "source": [
    "a = 'hello'\n",
    "b = 'tom'\n",
    "c = 'LAURA'\n",
    "question = 'How are you'\n",
    "age_question = 'How old are you?'\n",
    "\n",
    "print(a.capitalize())\n",
    "print(b.upper())\n",
    "print(c.lower())\n",
    "print(question.replace(\"o\", \"e\"))\n",
    "print(age_question.split())"
   ]
  },
  {
   "cell_type": "markdown",
   "id": "5f1a3995",
   "metadata": {},
   "source": [
    "### Exercise Variables - 12\n",
    "\n",
    "Create two variables called name and age. Then create a variable called hello and print the name and the age. Use the formatted string literal."
   ]
  },
  {
   "cell_type": "code",
   "execution_count": 14,
   "id": "525fc273",
   "metadata": {},
   "outputs": [
    {
     "name": "stdout",
     "output_type": "stream",
     "text": [
      "Hello, Mike. You are 30\n"
     ]
    }
   ],
   "source": [
    "name = 'Mike'\n",
    "age = 30\n",
    "hello = \"Hello, {name}. You are {age}\".format(name = name, age = age)\n",
    "print(hello)"
   ]
  },
  {
   "cell_type": "markdown",
   "id": "06a59978",
   "metadata": {},
   "source": [
    "### Exercise Operators - 1\n",
    "Insert the appropriate logical operator in order to print False"
   ]
  },
  {
   "cell_type": "code",
   "execution_count": 15,
   "id": "22ae58d9",
   "metadata": {},
   "outputs": [
    {
     "name": "stdout",
     "output_type": "stream",
     "text": [
      "False\n"
     ]
    }
   ],
   "source": [
    "print(False and True)"
   ]
  },
  {
   "cell_type": "markdown",
   "id": "311a74e3",
   "metadata": {},
   "source": [
    "### Exercise Operators - 2\n",
    "Change the logical operators in order to print True"
   ]
  },
  {
   "cell_type": "code",
   "execution_count": 16,
   "id": "9eeef1f1",
   "metadata": {},
   "outputs": [
    {
     "name": "stdout",
     "output_type": "stream",
     "text": [
      "True\n"
     ]
    }
   ],
   "source": [
    "print(False or True)"
   ]
  },
  {
   "cell_type": "markdown",
   "id": "e604fc32",
   "metadata": {},
   "source": [
    "### Exercise Operators - 3\n",
    "Print the remainder of the 5/2 division"
   ]
  },
  {
   "cell_type": "code",
   "execution_count": 17,
   "id": "22584097",
   "metadata": {},
   "outputs": [
    {
     "name": "stdout",
     "output_type": "stream",
     "text": [
      "1\n"
     ]
    }
   ],
   "source": [
    "print(5%2)"
   ]
  },
  {
   "cell_type": "markdown",
   "id": "bca1fbf8",
   "metadata": {},
   "source": [
    "### Exercise Operators - 4\n",
    "Insert the appropriate logical operator in order to print True."
   ]
  },
  {
   "cell_type": "code",
   "execution_count": 18,
   "id": "2efa1a3c",
   "metadata": {},
   "outputs": [
    {
     "name": "stdout",
     "output_type": "stream",
     "text": [
      "True\n"
     ]
    }
   ],
   "source": [
    "print(not (\"testing\" == \"testing\" and \"Mario\" == \"Cool Guy\")) # Should print True"
   ]
  },
  {
   "cell_type": "markdown",
   "id": "07b7afba",
   "metadata": {},
   "source": [
    "### Exercise Operators - 5\n",
    "Initialize and print the sentence variable using the appropriate operators."
   ]
  },
  {
   "cell_type": "code",
   "execution_count": 19,
   "id": "f15652a9",
   "metadata": {},
   "outputs": [
    {
     "name": "stdout",
     "output_type": "stream",
     "text": [
      "Mario Rossi\n"
     ]
    }
   ],
   "source": [
    "firstName = \"Mario\"\n",
    "lastName = \"Rossi\"\n",
    "\n",
    "sentence = firstName + ' ' + lastName\n",
    "\n",
    "print(sentence) # Should print \"Mario Rossi\""
   ]
  },
  {
   "cell_type": "markdown",
   "id": "bf5e200c",
   "metadata": {},
   "source": [
    "### Exercise Operators - 6\n",
    "Check if \"Nike\" is in brands array using the appropriate logical operator"
   ]
  },
  {
   "cell_type": "code",
   "execution_count": 20,
   "id": "2c3dda1b",
   "metadata": {},
   "outputs": [
    {
     "name": "stdout",
     "output_type": "stream",
     "text": [
      "True\n"
     ]
    }
   ],
   "source": [
    "brands = [\"Adidas\", \"Nike\"]\n",
    "\n",
    "print(\"Nike\" in brands) # Should print True"
   ]
  },
  {
   "cell_type": "markdown",
   "id": "6c726249",
   "metadata": {},
   "source": [
    "### Exercise Operators - 7\n",
    "Check if \"Reebok\" is not in brands array using the appropriate logical operator"
   ]
  },
  {
   "cell_type": "code",
   "execution_count": 21,
   "id": "8cedde78",
   "metadata": {},
   "outputs": [
    {
     "name": "stdout",
     "output_type": "stream",
     "text": [
      "True\n"
     ]
    }
   ],
   "source": [
    "brands = [\"Adidas\", \"Nike\"]\n",
    "\n",
    "print(\"Reebok\" not in brands) # Should print True"
   ]
  },
  {
   "cell_type": "markdown",
   "id": "cb73d5da",
   "metadata": {},
   "source": [
    "### Exercise Methods - 1\n",
    "With type command you can see the type of a variable in python eg: type(1) print each components type with this way you can see most significant data types in python"
   ]
  },
  {
   "cell_type": "code",
   "execution_count": 22,
   "id": "2f165b73",
   "metadata": {},
   "outputs": [
    {
     "name": "stdout",
     "output_type": "stream",
     "text": [
      "<class 'str'>\n",
      "<class 'bool'>\n",
      "<class 'bool'>\n",
      "<class 'int'>\n",
      "<class 'float'>\n",
      "<class 'complex'>\n",
      "<class 'complex'>\n",
      "<class 'list'>\n",
      "<class 'tuple'>\n",
      "<class 'dict'>\n",
      "<class 'set'>\n"
     ]
    }
   ],
   "source": [
    "print(type(\"Hello World\"))\n",
    "print(type(True))\n",
    "print(type(False))\n",
    "print(type(33))\n",
    "print(type(24.5))\n",
    "print(type(4+1j))\n",
    "print(type(4j))\n",
    "print(type([\"lion\", \"monkey\", \"dog\",\"fish\"]))\n",
    "print(type((\"lion\", \"monkey\", \"dog\",\"fish\")))\n",
    "print(type({\"name\" : \"John\", \"surname\" : \"Doe\", \"age\":22}))\n",
    "print(type({\"lion\", \"monkey\", \"dog\",\"fish\"}))"
   ]
  },
  {
   "cell_type": "markdown",
   "id": "ffc9930f",
   "metadata": {},
   "source": [
    "### Exercise Methods - 2\n",
    "the number types can be converted to each other wit the int() float() complex() methods also float numbers can be rounded with the method round()\n",
    "\n",
    "<br>convert num1 to float and assign to itself\n",
    "<br>convert num2 to int and assign to itself\n",
    "<br>convert num3 to complex and assign to itself\n",
    "<br>use round method for num4 and assign to itself\n",
    "<br>use round method for num5 and assign to itself\n",
    "<br>print them all\n",
    "<br>print their types"
   ]
  },
  {
   "cell_type": "code",
   "execution_count": 23,
   "id": "1da2b53f",
   "metadata": {},
   "outputs": [
    {
     "name": "stdout",
     "output_type": "stream",
     "text": [
      "\n",
      "num1 is 1.3 and its type is <class 'float'>,\n",
      "num2 is 2 and its type is <class 'int'>,\n",
      "num3 is 1j and its type is <class 'complex'>,\n",
      "num4 is 1 and its type is <class 'int'>,\n",
      "num5 is 2 and its type is <class 'int'>\n",
      "\n"
     ]
    }
   ],
   "source": [
    "num1 = 1.3\n",
    "num2 = 2.3\n",
    "num3 = 1j \n",
    "num4 = 1.4 \n",
    "num5 = 1.5\n",
    "\n",
    "num1 = float(num1)\n",
    "num2 = int(num2)\n",
    "num3 = complex(num3)\n",
    "num4 = round(num4)\n",
    "num5 = round(num5)\n",
    "print(f'''\n",
    "num1 is {num1} and its type is {type(num1)},\n",
    "num2 is {num2} and its type is {type(num2)},\n",
    "num3 is {num3} and its type is {type(num3)},\n",
    "num4 is {num4} and its type is {type(num4)},\n",
    "num5 is {num5} and its type is {type(num5)}\n",
    "''')"
   ]
  },
  {
   "cell_type": "markdown",
   "id": "03242836",
   "metadata": {},
   "source": [
    "### Exercise Methods - 3\n",
    "to convert a number to string we can use str() function this is called casting\n",
    "\n",
    "<br>cast num1 to string and assign to num1_str\n",
    "<br>check the length of the string\n",
    "<br>get the third element of string (the one in the 3rd order)\n",
    "<br>get the 3-5 elements of string (both inclusive) by string slicing\n",
    "<br>check if num2 in string (cast if necessary)\n",
    "<br>check if num3 in string (cast if necessary)\n",
    "<br>concatenate 0 to the string from left and assign to string_with_0\n",
    "<br>get the characters of string_with_0 from start to position 4 (end point exclusive)\n",
    "<br>get the characters of string_with_0 from position 5 until the end\n",
    "<br>use negative indexing to reach the \"566\" string_with_0"
   ]
  },
  {
   "cell_type": "code",
   "execution_count": 24,
   "id": "c660a494",
   "metadata": {},
   "outputs": [
    {
     "name": "stdout",
     "output_type": "stream",
     "text": [
      "13\n",
      "2\n",
      "223\n",
      "True\n",
      "True\n",
      "01122\n",
      "566\n"
     ]
    }
   ],
   "source": [
    "num1 = 1122334455666\n",
    "num1_str = str(num1)\n",
    "print(len(num1_str))\n",
    "num2 = num1_str[2]\n",
    "num3 = num1_str[2:5]\n",
    "print(num2)\n",
    "print(num3)\n",
    "print(num2 in num1_str)\n",
    "print(num3 in num1_str)\n",
    "string_with_0 = '0' + num1_str\n",
    "print(string_with_0[:5])\n",
    "print(string_with_0[-4:-1])"
   ]
  },
  {
   "cell_type": "markdown",
   "id": "1e67e707",
   "metadata": {},
   "source": [
    "### Exercise Conditions - 1\n",
    "print if num1 or num2 is greater num1 = 335 num2 = 66"
   ]
  },
  {
   "cell_type": "code",
   "execution_count": 25,
   "id": "02b0b5a1",
   "metadata": {},
   "outputs": [
    {
     "name": "stdout",
     "output_type": "stream",
     "text": [
      "335 is greater than 66\n"
     ]
    }
   ],
   "source": [
    "num1 = 335\n",
    "num2 = 66\n",
    "\n",
    "if num1 > num2:\n",
    "    print(f\"{num1} is greater than {num2}\")\n",
    "else:\n",
    "    print(f\"{num1} is not greater than {num2}\")"
   ]
  },
  {
   "cell_type": "markdown",
   "id": "2e7d881f",
   "metadata": {},
   "source": [
    "### Exercise Conditions - 2\n",
    "check if number1 is greater than number 2 and print number1 is greater than number2 then check and if number 2 is greater than number 1 and print number2 is greater than number1 finally at the end if both conditions incorrect print number2 equals to number1\n",
    "\n",
    "number1 = 66 number2 = 66"
   ]
  },
  {
   "cell_type": "code",
   "execution_count": 26,
   "id": "82420f44",
   "metadata": {},
   "outputs": [
    {
     "name": "stdout",
     "output_type": "stream",
     "text": [
      "66 equals to 66\n"
     ]
    }
   ],
   "source": [
    "number1 = 66\n",
    "number2 = 66\n",
    "\n",
    "if number1 > number2:\n",
    "    print(f\"{number1} is greater than {number2}\")\n",
    "elif number2 > number1:\n",
    "    print(f\"{number2} is greater than {number1}\")    \n",
    "else:\n",
    "    print(f\"{number1} equals to {number2}\")\n"
   ]
  },
  {
   "cell_type": "markdown",
   "id": "6d21887a",
   "metadata": {},
   "source": [
    "### Exercise Conditions - 3\n",
    "Compare those 2 numbers and write X greater than Y But be sure you are making the check for all the conditions"
   ]
  },
  {
   "cell_type": "code",
   "execution_count": 27,
   "id": "04b8a16c",
   "metadata": {},
   "outputs": [
    {
     "name": "stdout",
     "output_type": "stream",
     "text": [
      "3 equals to 3\n"
     ]
    }
   ],
   "source": [
    "import random\n",
    "\n",
    "number1 = random.randint(1,100)\n",
    "number2 = random.randint(1,100)\n",
    "\n",
    "# Compare the numbers to eachother \n",
    "\n",
    "if number1 > number2:\n",
    "    print(f\"{number1} is greater than {number2}\")\n",
    "elif number2 > number1:\n",
    "    print(f\"{number2} is greater than {number1}\")    \n",
    "else:\n",
    "    print(f\"{number1} equals to {number2}\")"
   ]
  },
  {
   "cell_type": "markdown",
   "id": "80f7714b",
   "metadata": {},
   "source": [
    "### Exercise Conditions - 4\n",
    "Compare those 2 numbers' absolute values and write X's absolute value greater than Y's absolute value Use abs function to do that\n",
    "eg.\n",
    "abs(-5) -> 5\n",
    "abs function makes all numbers positive"
   ]
  },
  {
   "cell_type": "code",
   "execution_count": 28,
   "id": "f52eea43",
   "metadata": {},
   "outputs": [
    {
     "name": "stdout",
     "output_type": "stream",
     "text": [
      "-82's absolute value greater than 38's absolute value\n"
     ]
    }
   ],
   "source": [
    "import random\n",
    "\n",
    "number1 = random.randint(-100,100)\n",
    "number2 = random.randint(-100,100)\n",
    "\n",
    "if abs(number1) > abs(number2):\n",
    "    print(f\"{number1}'s absolute value greater than {number2}'s absolute value\")\n",
    "elif abs(number2) > abs(number1):\n",
    "    print(f\"{number2}'s absolute value greater than {number1}'s absolute value\")    \n",
    "else:\n",
    "    print(f\"{number1}'s absolute value is equal to {number2}'s absolute value\")"
   ]
  },
  {
   "cell_type": "markdown",
   "id": "2ba82747",
   "metadata": {},
   "source": [
    "### Iterators - Exercise 1 🐍\n",
    "\n",
    "create \n",
    "\n",
    "<br>\\*\n",
    "<br>\\*\\*\n",
    "<br>\\*\\*\\*\n",
    "<br>\\*\\*\\*\\*\n",
    "<br>\\*\\*\\*\\*\\*\n",
    "\n",
    "this shape with print and while loop statemets\n"
   ]
  },
  {
   "cell_type": "code",
   "execution_count": 29,
   "id": "8ac1fad8",
   "metadata": {},
   "outputs": [
    {
     "name": "stdout",
     "output_type": "stream",
     "text": [
      "*\n",
      "**\n",
      "***\n",
      "****\n",
      "*****\n"
     ]
    }
   ],
   "source": [
    "i = 1 \n",
    "while i <6:\n",
    "    print(\"*\"*i)\n",
    "    i = i + 1"
   ]
  },
  {
   "cell_type": "markdown",
   "id": "83fdcb58",
   "metadata": {},
   "source": [
    "### Iterators - Exercise 2 🐍\n",
    "\n",
    "create \n",
    "\n",
    "<br>\\*\n",
    "<br>\\*\\*\\*\n",
    "<br>\\*\\*\\*\\*\\*\n",
    "\n",
    "this shape with print, for loop, if and continue statements"
   ]
  },
  {
   "cell_type": "code",
   "execution_count": 30,
   "id": "8846c6f8",
   "metadata": {},
   "outputs": [
    {
     "name": "stdout",
     "output_type": "stream",
     "text": [
      "*\n",
      "***\n",
      "*****\n"
     ]
    }
   ],
   "source": [
    "for i in range(1,6):\n",
    "    if i%2==0:\n",
    "        continue\n",
    "    else:\n",
    "        print(\"*\"*i)"
   ]
  },
  {
   "cell_type": "markdown",
   "id": "bef3b522",
   "metadata": {},
   "source": [
    "### Iterators - Exercise 3 🐍\n",
    "\n",
    "<br>check if it is time for `coffee break` if it is just break \n",
    "<br>to do that lets iterate through given list don't change the `COFFEE BREAK` statement\n",
    "<br>just find another way to do it "
   ]
  },
  {
   "cell_type": "code",
   "execution_count": 31,
   "id": "085a9306",
   "metadata": {},
   "outputs": [
    {
     "name": "stdout",
     "output_type": "stream",
     "text": [
      "coffee break\n"
     ]
    }
   ],
   "source": [
    "todo = [\"exercise1\", \"exercise2\", \"exercise3\",\"coffee break\" ,\"exercise4\",\"exercise5\",\"exercise6\"]\n",
    "for x in todo:\n",
    "    if x.upper() == \"COFFEE BREAK\":\n",
    "        print(x)\n",
    "        break\n",
    "  "
   ]
  },
  {
   "cell_type": "markdown",
   "id": "783582be",
   "metadata": {},
   "source": [
    "### Iterators - Exercise 4 🐍\n",
    "\n",
    "\n",
    "<br>iterate each elements of `list1`,`tuple1`,`set1` and print them out \n",
    "\n",
    "<br>for the `dict1` iterate all elements but only print the ones who are living on land\n",
    "<br>in the form of `x lives in y`"
   ]
  },
  {
   "cell_type": "code",
   "execution_count": 32,
   "id": "771fff2e",
   "metadata": {},
   "outputs": [
    {
     "name": "stdout",
     "output_type": "stream",
     "text": [
      "lion\n",
      "monkey\n",
      "dog\n",
      "fish\n",
      "lion\n",
      "monkey\n",
      "dog\n",
      "fish\n",
      "monkey\n",
      "lion\n",
      "dog\n",
      "fish\n",
      "lion lives in land\n",
      "monkey lives in land\n",
      "dog lives in land\n"
     ]
    }
   ],
   "source": [
    "list1 = [\"lion\", \"monkey\", \"dog\",\"fish\"]\n",
    "tuple1 = (\"lion\", \"monkey\", \"dog\",\"fish\")\n",
    "set1 = {\"lion\", \"monkey\", \"dog\",\"fish\"}\n",
    "dict1 = {\"lion\":\"land\", \"monkey\":\"land\", \"dog\":\"land\",\"fish\":\"water\"}\n",
    "\n",
    "for i in list1:\n",
    "    print(i)\n",
    "    \n",
    "for i in tuple1:\n",
    "    print(i)\n",
    "    \n",
    "for i in set1:\n",
    "    print(i)\n",
    "\n",
    "for animal, place in dict1.items():\n",
    "    if place == 'land':\n",
    "        print(f'{animal} lives in {place}')"
   ]
  },
  {
   "cell_type": "markdown",
   "id": "35d92d6d",
   "metadata": {},
   "source": [
    "### Data Structures 🐍\n",
    "\n",
    "Remember `list`,`set`,`dictionary` are mutable and `tuple` is immutable\n",
    "`list`,`tuple` elements can be reached by index  \n",
    "for `dictionary` it is not an option to reach by index the element key has to be known to reach  \n",
    "and for `set` the items cannot be reached directly but it is possible to iterate.\n",
    "\n",
    "1. print the lengths of `list1`,`tuple1`,`set1`,`dict1`\n",
    "2. print the first element of `list1` and `tuple1`\n",
    "3. print the value of `lion` key of `dict1`\n",
    "4. change the 2nd position element of `list1` to \"rabbit\"\n",
    "5. try to change the 2nd position element of the tuple to \"rabbit\" and explain what happened.\n",
    "6. add \"monkey\" to `list1`\n",
    "7. remove \"rabbit\" from `list1`\n",
    "8. in `dict1` the number of feet is written as value to each animal the fixh has wrong value just fix it.\n"
   ]
  },
  {
   "cell_type": "code",
   "execution_count": 33,
   "id": "66f42607",
   "metadata": {},
   "outputs": [
    {
     "name": "stdout",
     "output_type": "stream",
     "text": [
      "list1 has 4 elements.\n",
      "tuple1 has 4 elements.\n",
      "set1 has 4 elements.\n",
      "dict1 has 4 elements.\n",
      "list1's and tuple1's first elements are respectively lion and lion\n",
      "The value of `lion` key of 'dict1' is 4\n",
      "Tuples are immutable.\n"
     ]
    },
    {
     "ename": "TypeError",
     "evalue": "'tuple' object does not support item assignment",
     "output_type": "error",
     "traceback": [
      "\u001b[1;31m---------------------------------------------------------------------------\u001b[0m",
      "\u001b[1;31mTypeError\u001b[0m                                 Traceback (most recent call last)",
      "\u001b[1;32m~\\AppData\\Local\\Temp\\ipykernel_10600\\2471144528.py\u001b[0m in \u001b[0;36m<module>\u001b[1;34m\u001b[0m\n\u001b[0;32m     22\u001b[0m \u001b[0mprint\u001b[0m\u001b[1;33m(\u001b[0m\u001b[1;34m\"Tuples are immutable.\"\u001b[0m\u001b[1;33m)\u001b[0m\u001b[1;33m\u001b[0m\u001b[1;33m\u001b[0m\u001b[0m\n\u001b[0;32m     23\u001b[0m \u001b[1;33m\u001b[0m\u001b[0m\n\u001b[1;32m---> 24\u001b[1;33m \u001b[0mtuple1\u001b[0m\u001b[1;33m[\u001b[0m\u001b[1;36m1\u001b[0m\u001b[1;33m]\u001b[0m \u001b[1;33m=\u001b[0m \u001b[1;34m'rabbit'\u001b[0m\u001b[1;33m\u001b[0m\u001b[1;33m\u001b[0m\u001b[0m\n\u001b[0m",
      "\u001b[1;31mTypeError\u001b[0m: 'tuple' object does not support item assignment"
     ]
    }
   ],
   "source": [
    "\n",
    "list1 = [\"lion\", \"monkey\", \"dog\",\"fish\"]\n",
    "tuple1 = (\"lion\", \"monkey\", \"dog\",\"fish\")\n",
    "set1 = {\"lion\", \"monkey\", \"dog\",\"fish\"}\n",
    "dict1 = {\"lion\":4, \"monkey\":2, \"dog\":4,\"fish\":2}\n",
    "\n",
    "#1\n",
    "print(f'list1 has {len(list1)} elements.')\n",
    "print(f'tuple1 has {len(tuple1)} elements.')\n",
    "print(f'set1 has {len(set1)} elements.')\n",
    "print(f'dict1 has {len(dict1)} elements.')\n",
    "\n",
    "#2\n",
    "print(f\"list1's and tuple1's first elements are respectively {list1[0]} and {tuple1[0]}\")\n",
    "\n",
    "#3\n",
    "print(f\"The value of `lion` key of 'dict1' is {dict1['lion']}\")\n",
    "\n",
    "#4\n",
    "list1[1] = 'rabbit'\n",
    "\n",
    "#5\n",
    "print(\"Tuples are immutable.\")\n",
    "\n",
    "tuple1[1] = 'rabbit'"
   ]
  },
  {
   "cell_type": "code",
   "execution_count": 34,
   "id": "8773621c",
   "metadata": {},
   "outputs": [
    {
     "name": "stdout",
     "output_type": "stream",
     "text": [
      "['lion', 'rabbit', 'dog', 'fish', 'monkey']\n",
      "['lion', 'dog', 'fish', 'monkey']\n",
      "{'lion': 4, 'monkey': 2, 'dog': 4, 'fish': 0}\n"
     ]
    }
   ],
   "source": [
    "#6\n",
    "list1.append(\"monkey\")\n",
    "print(list1)\n",
    "\n",
    "#7\n",
    "# this only removes the first element\n",
    "list1.remove('rabbit')\n",
    "print(list1)\n",
    "\n",
    "#8\n",
    "dict1['fish'] = 0\n",
    "print(dict1)"
   ]
  },
  {
   "cell_type": "markdown",
   "id": "73f62ce6",
   "metadata": {},
   "source": [
    "### Functions - Exercise 1 🐍\n",
    "\n",
    "to create functions in python we start with `def` word and after it the `name of function` comes with without parameters  \n",
    "example is here \n",
    "```\n",
    "def hello():\n",
    "    print(\"hello\")\n",
    "```\n",
    "\n",
    "Now you create a function named goodbye without parameters which prints good bye  "
   ]
  },
  {
   "cell_type": "code",
   "execution_count": 35,
   "id": "462dcda3",
   "metadata": {},
   "outputs": [
    {
     "name": "stdout",
     "output_type": "stream",
     "text": [
      "goodbye\n"
     ]
    }
   ],
   "source": [
    "def goodbye():\n",
    "    print('goodbye')\n",
    "    \n",
    "goodbye()"
   ]
  },
  {
   "cell_type": "markdown",
   "id": "1e0c6ba8",
   "metadata": {},
   "source": [
    "### Functions - Exercise 2 🐍\n",
    "\n",
    "inside the paranthesis variables can be used those variables as known as parameters of the function provides control inside the function\n",
    "example is here \n",
    "```\n",
    "def hello(name):\n",
    "    print(f\"hello {name}\")\n",
    "```\n",
    "\n",
    "Now you create a function named goodbye with a parameter `name` and say \"Good bye Adam\"    "
   ]
  },
  {
   "cell_type": "code",
   "execution_count": 36,
   "id": "4fc8e661",
   "metadata": {},
   "outputs": [
    {
     "name": "stdout",
     "output_type": "stream",
     "text": [
      "Good bye Adam\n"
     ]
    }
   ],
   "source": [
    "def goodbye(name):\n",
    "    print(f\"Good bye {name}\")\n",
    "\n",
    "goodbye('Adam')"
   ]
  },
  {
   "cell_type": "markdown",
   "id": "6f93eb3f",
   "metadata": {},
   "source": [
    "### Functions - Exercise 3 🐍\n",
    "\n",
    "lets see what is your user name on your computer   \n",
    "to do that we are going to use os molude which is a built in module in python    \n",
    "and has many built in functions in it \n",
    "\n",
    "to be able to use os fucntions   \n",
    "`import os`\n",
    "then call `getlogin` method of the module   \n",
    "then assign the output to `user` varialbe and print the user\n",
    " "
   ]
  },
  {
   "cell_type": "code",
   "execution_count": 37,
   "id": "4aa376f6",
   "metadata": {},
   "outputs": [
    {
     "name": "stdout",
     "output_type": "stream",
     "text": [
      "alioz\n"
     ]
    }
   ],
   "source": [
    "import os\n",
    "user = os.getlogin()\n",
    "print(user)"
   ]
  },
  {
   "cell_type": "markdown",
   "id": "cfb2c03e",
   "metadata": {},
   "source": [
    "### Functions - Exercise 4 🐍\n",
    "\n",
    "Now create a fuction for John Doe and his family that greets every one in the family.   \n",
    "Since it will  usually John Doe the name and surname parameter must be defaulted   \n",
    "and when someone else comes it has to greet the new comer with name surname parameters which were overwritten. \n",
    "Make it possible.  \n",
    "The function have to print `\"Hello John Doe\"` where John and Doe is parametric   \n",
    "Greet each our John first then the people in the list with for loop and the function   \n",
    "What you have to use\n",
    "- for loop \n",
    "- function \n",
    "- string operation \n",
    "- list index\n",
    "\n",
    "Output format \n",
    "```\n",
    "Hello John Doe!\n",
    "Hello Tristram Mcbride!\n",
    "Hello Baldwin Preston!\n",
    "Hello Wally Collins!\n",
    "```"
   ]
  },
  {
   "cell_type": "code",
   "execution_count": 38,
   "id": "431c50fe",
   "metadata": {},
   "outputs": [
    {
     "name": "stdout",
     "output_type": "stream",
     "text": [
      "Hello John Doe\n",
      "Hello Tristram Mcbride\n",
      "Hello Baldwin Preston\n",
      "Hello Wally Collins\n"
     ]
    }
   ],
   "source": [
    "def greet_fam(name = 'John', surname = 'Doe'):\n",
    "    family = [name + ' ' + surname] + ['Tristram Mcbride', 'Baldwin Preston', 'Wally Collins']\n",
    "    for i in range(len(family)):\n",
    "        print(f'Hello {family.pop(0)}')\n",
    "        \n",
    "greet_fam()"
   ]
  },
  {
   "cell_type": "markdown",
   "id": "f7496357",
   "metadata": {},
   "source": [
    "### Functions - Exercise 5 🐍\n",
    "\n",
    "import random function   \n",
    "create a function `random_list_summer` creates n elemented list \n",
    "with   \n",
    "min value = -100   \n",
    "max value = 100\n",
    "it has to print the list first and sum all the elements of it   \n",
    "default element number is 15   \n",
    "Don't forget to call the function  \n",
    "for some features and functions you might have to search on the internet do it don't lose your courage :) \n"
   ]
  },
  {
   "cell_type": "code",
   "execution_count": 39,
   "id": "7fb485f8",
   "metadata": {},
   "outputs": [
    {
     "name": "stdout",
     "output_type": "stream",
     "text": [
      "The list is [-83, -14, -25, -54, -38, -71, -95, -58, 35, -49, -51, 33, -8, -99, -67], \n",
      "    sum of all elements is -644\n"
     ]
    }
   ],
   "source": [
    "import random\n",
    "def random_list_summer(n = 15):\n",
    "    rnd_list = []\n",
    "    for i in range(n):\n",
    "        rnd_list.append(random.randint(-100,100))\n",
    "    print(f'''The list is {rnd_list}, \n",
    "    sum of all elements is {sum(rnd_list)}''')\n",
    "    \n",
    "random_list_summer()"
   ]
  },
  {
   "cell_type": "markdown",
   "id": "2c35264e",
   "metadata": {},
   "source": [
    "### Functions - Exercise 6 🐍\n",
    "\n",
    "Implement [Fibonacci](https://en.wikipedia.org/wiki/Fibonacci_number) sequence as recursive function\n",
    "and print first 5 elements.\n",
    "\n",
    "\n",
    "ps:  \n",
    "use list comprehension while creating the list\n",
    "minimum element is 0 in this series"
   ]
  },
  {
   "cell_type": "code",
   "execution_count": 40,
   "id": "d41133e0",
   "metadata": {},
   "outputs": [
    {
     "data": {
      "text/plain": [
       "[0, 1, 1, 2, 3]"
      ]
     },
     "execution_count": 40,
     "metadata": {},
     "output_type": "execute_result"
    }
   ],
   "source": [
    "def fibonacci(n = 5):\n",
    "    # base case\n",
    "    \n",
    "    if n <= 2:\n",
    "        return [] if n <= 0 else [0] * (n == 1) + [0, 1] * (n == 2)\n",
    "    else:\n",
    "        # recursive case\n",
    "        prev_fib = fibonacci(n - 1)\n",
    "        return prev_fib + [prev_fib[-1] + prev_fib[-2]]\n",
    "\n",
    "fibonacci()"
   ]
  },
  {
   "cell_type": "markdown",
   "id": "11dc31eb",
   "metadata": {},
   "source": [
    "### Functions - Exercise 7 🐍\n",
    "\n",
    "Create a lambda function that returns 2nd power of given number if its even   \n",
    "and run it on the given list   \n",
    "then print the result to the screen "
   ]
  },
  {
   "cell_type": "code",
   "execution_count": 41,
   "id": "91c1e0ff",
   "metadata": {},
   "outputs": [
    {
     "name": "stdout",
     "output_type": "stream",
     "text": [
      "0\n",
      "4\n",
      "16\n"
     ]
    }
   ],
   "source": [
    "my_list= [*range(5)] \n",
    "result = map(lambda x: x**2 if x % 2 == 0 else None, my_list)\n",
    "for value in result:\n",
    "    if value is not None:\n",
    "        print(value)"
   ]
  },
  {
   "cell_type": "markdown",
   "id": "2c1dde82",
   "metadata": {},
   "source": [
    "### Classes and Objects - Exercise 1 🐍\n",
    "\n",
    "Let's create Animal class and then create the \n",
    "animal object that runs and having 4 legs\n",
    "\n",
    "create animal object with leg count \n",
    "when created print |\n",
    "`\"Animal object was created\"`\n",
    "and then call `runs` method of it and it prints \n",
    "`\"Running started\"`\n"
   ]
  },
  {
   "cell_type": "code",
   "execution_count": 42,
   "id": "dca09c7e",
   "metadata": {},
   "outputs": [],
   "source": [
    "class animal:\n",
    "    def __init__(self, leg_counts):\n",
    "        self.leg_counts = leg_counts\n",
    "        print( \"Animal object was created\")\n",
    "\n",
    "    def runs(self):\n",
    "        print(\"Running started\")"
   ]
  },
  {
   "cell_type": "code",
   "execution_count": 43,
   "id": "9e3acc0b",
   "metadata": {},
   "outputs": [
    {
     "name": "stdout",
     "output_type": "stream",
     "text": [
      "Animal object was created\n"
     ]
    }
   ],
   "source": [
    "a1 = animal(4)"
   ]
  },
  {
   "cell_type": "code",
   "execution_count": 44,
   "id": "18ddbe75",
   "metadata": {},
   "outputs": [
    {
     "name": "stdout",
     "output_type": "stream",
     "text": [
      "Running started\n"
     ]
    }
   ],
   "source": [
    "a1.runs()"
   ]
  },
  {
   "cell_type": "markdown",
   "id": "4e4c287f",
   "metadata": {},
   "source": [
    "### Classes and Objects - Exercise 2 🐍\n",
    "\n",
    "Now continue with the Animal class we had used before \n",
    "\n",
    "Add a method to count the legs `count_legs`\n",
    "which prints the number of legs \n",
    "\n",
    "Add a method to count the legs `return_legs`\n",
    "which returns the number of legs \n",
    "\n",
    "print number of legs directly from  `number_of_legs` \n",
    "variable of the object \n"
   ]
  },
  {
   "cell_type": "code",
   "execution_count": 45,
   "id": "d1dced05",
   "metadata": {},
   "outputs": [
    {
     "name": "stdout",
     "output_type": "stream",
     "text": [
      "Animal object was created\n",
      "It has 3\n"
     ]
    }
   ],
   "source": [
    "\n",
    "class Animal:\n",
    "    def __init__(self,legs_count):\n",
    "        print(\"Animal object was created\")\n",
    "        self.number_of_legs = legs_count\n",
    "\n",
    "    def runs(self):\n",
    "        print(\"Running started\")\n",
    "\n",
    "    def count_legs(self):\n",
    "        print(f\"It has {self.number_of_legs}\")\n",
    "        \n",
    "    def return_legs(self):\n",
    "        return self.number_of_legs\n",
    "\n",
    "\n",
    "animal = Animal(3)\n",
    "animal.count_legs()"
   ]
  },
  {
   "cell_type": "markdown",
   "id": "dd062c6c",
   "metadata": {},
   "source": [
    "### Classes and Objects - Exercise 3 🐍\n",
    "\n",
    "Again let's keep talking on Animal class we have.  \n",
    "with 3 methods we just reached the number of legs   \n",
    "to prevent direct interactin with the class variables   \n",
    "most of the other programming languages have encapsulation.  \n",
    "But in python we don't have it \n",
    "instead we use `_` prefix for it as convention   \n",
    "it is also same for the methods   \n",
    "  \n",
    "`_legs` this shows us not to touch this variable its up to you \n",
    "if you want to change it you can but `_`asks you politely not to do it. \n",
    "\n",
    "Change the `number_of_legs` to conventional private variable \n",
    "and call from another method"
   ]
  },
  {
   "cell_type": "code",
   "execution_count": 46,
   "id": "2f0a5a53",
   "metadata": {},
   "outputs": [
    {
     "name": "stdout",
     "output_type": "stream",
     "text": [
      "Animal object was created\n",
      "It has 4\n"
     ]
    },
    {
     "ename": "AttributeError",
     "evalue": "'Animal' object has no attribute 'number_of_legs'",
     "output_type": "error",
     "traceback": [
      "\u001b[1;31m---------------------------------------------------------------------------\u001b[0m",
      "\u001b[1;31mAttributeError\u001b[0m                            Traceback (most recent call last)",
      "\u001b[1;32m~\\AppData\\Local\\Temp\\ipykernel_10600\\617368934.py\u001b[0m in \u001b[0;36m<module>\u001b[1;34m\u001b[0m\n\u001b[0;32m     15\u001b[0m \u001b[0manimal\u001b[0m\u001b[1;33m=\u001b[0m \u001b[0mAnimal\u001b[0m\u001b[1;33m(\u001b[0m\u001b[1;36m4\u001b[0m\u001b[1;33m)\u001b[0m\u001b[1;33m\u001b[0m\u001b[1;33m\u001b[0m\u001b[0m\n\u001b[0;32m     16\u001b[0m \u001b[0manimal\u001b[0m\u001b[1;33m.\u001b[0m\u001b[0mcount_legs\u001b[0m\u001b[1;33m(\u001b[0m\u001b[1;33m)\u001b[0m\u001b[1;33m\u001b[0m\u001b[1;33m\u001b[0m\u001b[0m\n\u001b[1;32m---> 17\u001b[1;33m \u001b[0mprint\u001b[0m\u001b[1;33m(\u001b[0m\u001b[0manimal\u001b[0m\u001b[1;33m.\u001b[0m\u001b[0mreturn_legs\u001b[0m\u001b[1;33m(\u001b[0m\u001b[1;33m)\u001b[0m\u001b[1;33m)\u001b[0m\u001b[1;33m\u001b[0m\u001b[1;33m\u001b[0m\u001b[0m\n\u001b[0m\u001b[0;32m     18\u001b[0m \u001b[0mprint\u001b[0m\u001b[1;33m(\u001b[0m\u001b[0manimal\u001b[0m\u001b[1;33m.\u001b[0m\u001b[0mnumber_of_legs\u001b[0m\u001b[1;33m)\u001b[0m\u001b[1;33m\u001b[0m\u001b[1;33m\u001b[0m\u001b[0m\n",
      "\u001b[1;32m~\\AppData\\Local\\Temp\\ipykernel_10600\\617368934.py\u001b[0m in \u001b[0;36mreturn_legs\u001b[1;34m(self)\u001b[0m\n\u001b[0;32m     11\u001b[0m \u001b[1;33m\u001b[0m\u001b[0m\n\u001b[0;32m     12\u001b[0m     \u001b[1;32mdef\u001b[0m \u001b[0mreturn_legs\u001b[0m\u001b[1;33m(\u001b[0m\u001b[0mself\u001b[0m\u001b[1;33m)\u001b[0m\u001b[1;33m:\u001b[0m\u001b[1;33m\u001b[0m\u001b[1;33m\u001b[0m\u001b[0m\n\u001b[1;32m---> 13\u001b[1;33m         \u001b[1;32mreturn\u001b[0m \u001b[0mself\u001b[0m\u001b[1;33m.\u001b[0m\u001b[0mnumber_of_legs\u001b[0m\u001b[1;33m\u001b[0m\u001b[1;33m\u001b[0m\u001b[0m\n\u001b[0m\u001b[0;32m     14\u001b[0m \u001b[1;33m\u001b[0m\u001b[0m\n\u001b[0;32m     15\u001b[0m \u001b[0manimal\u001b[0m\u001b[1;33m=\u001b[0m \u001b[0mAnimal\u001b[0m\u001b[1;33m(\u001b[0m\u001b[1;36m4\u001b[0m\u001b[1;33m)\u001b[0m\u001b[1;33m\u001b[0m\u001b[1;33m\u001b[0m\u001b[0m\n",
      "\u001b[1;31mAttributeError\u001b[0m: 'Animal' object has no attribute 'number_of_legs'"
     ]
    }
   ],
   "source": [
    "\n",
    "class Animal:\n",
    "    def __init__(self,legs_count):\n",
    "        print(\"Animal object was created\")\n",
    "        self.__number_of_legs = legs_count\n",
    "\n",
    "    def runs(self):\n",
    "        print(\"Running started\")\n",
    "\n",
    "    def count_legs(self):\n",
    "        print(f\"It has {self.__number_of_legs}\")\n",
    "\n",
    "    def return_legs(self):\n",
    "        return self.number_of_legs\n",
    "\n",
    "animal= Animal(4)\n",
    "animal.count_legs()\n",
    "print(animal.return_legs())\n",
    "print(animal.number_of_legs)"
   ]
  },
  {
   "cell_type": "markdown",
   "id": "b10a5100",
   "metadata": {},
   "source": [
    "### Classes and Objects - Exercise 4 🐍\n",
    "\n",
    "Let's inherit Dog class from Animal \n",
    "<br>add name(private) attribute to Dog class \n",
    "<br>and then bark method to print `woof woof`\n",
    "\n",
    "<br>print name_of_dog \n",
    "<br>make it bark\n",
    "<br>count the legs "
   ]
  },
  {
   "cell_type": "code",
   "execution_count": 47,
   "id": "68519540",
   "metadata": {},
   "outputs": [
    {
     "name": "stdout",
     "output_type": "stream",
     "text": [
      "Animal object was created\n",
      "It has 4\n",
      "4\n",
      "4\n",
      "Animal object was created\n",
      "woof woof\n",
      "My name is, Diego woof!\n",
      "It has 4\n"
     ]
    }
   ],
   "source": [
    "\n",
    "class Animal:\n",
    "    def __init__(self,legs_count):\n",
    "        print(\"Animal object was created\")\n",
    "        self._number_of_legs = legs_count\n",
    "\n",
    "    def runs(self):\n",
    "        print(\"Running started\")\n",
    "\n",
    "    def count_legs(self):\n",
    "        print(f\"It has {self._number_of_legs}\")\n",
    "\n",
    "    def return_legs(self):\n",
    "        return self._number_of_legs\n",
    "    \n",
    "class Dog(Animal):\n",
    "    def __init__(self, legs_count, name):\n",
    "        super().__init__(legs_count)\n",
    "        self.__name = name\n",
    "\n",
    "\n",
    "        \n",
    "    def bark(self):\n",
    "        print('woof woof')\n",
    "        \n",
    "    def print_name(self):\n",
    "        print('My name is, ' + self.__name + ' woof!')\n",
    "\n",
    "        \n",
    "    \n",
    "        \n",
    "animal= Animal(4)\n",
    "animal.count_legs()\n",
    "print(animal.return_legs())\n",
    "print(animal._number_of_legs)\n",
    "\n",
    "dog_obj = Dog(4, 'Diego')\n",
    "dog_obj.bark()\n",
    "dog_obj.print_name()\n",
    "dog_obj.count_legs()\n"
   ]
  }
 ],
 "metadata": {
  "kernelspec": {
   "display_name": "Python 3 (ipykernel)",
   "language": "python",
   "name": "python3"
  },
  "language_info": {
   "codemirror_mode": {
    "name": "ipython",
    "version": 3
   },
   "file_extension": ".py",
   "mimetype": "text/x-python",
   "name": "python",
   "nbconvert_exporter": "python",
   "pygments_lexer": "ipython3",
   "version": "3.9.13"
  }
 },
 "nbformat": 4,
 "nbformat_minor": 5
}
