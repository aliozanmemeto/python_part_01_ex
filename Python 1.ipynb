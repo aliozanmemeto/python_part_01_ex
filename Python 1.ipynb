{
 "cells": [
  {
   "cell_type": "markdown",
   "id": "70a6cfae",
   "metadata": {},
   "source": [
    "### Exercise Variables - 1\n",
    "Create a firstName variable and assign the value Mario to it."
   ]
  },
  {
   "cell_type": "code",
   "execution_count": 1,
   "id": "0fd6fdd9",
   "metadata": {},
   "outputs": [],
   "source": [
    "firstName = 'Mario'"
   ]
  },
  {
   "cell_type": "markdown",
   "id": "d54d3f07",
   "metadata": {},
   "source": [
    "### Exercise Variables - 2\n",
    "Create an age variable and assign the value 25 to it."
   ]
  },
  {
   "cell_type": "code",
   "execution_count": 2,
   "id": "fc7073f7",
   "metadata": {},
   "outputs": [],
   "source": [
    "age = 25"
   ]
  },
  {
   "cell_type": "markdown",
   "id": "03d1065c",
   "metadata": {},
   "source": [
    "### Exercise Variables - 3\n",
    "Create a sentence variable and assign the value Hello, I'm Mario! to it without using double quotes."
   ]
  },
  {
   "cell_type": "code",
   "execution_count": 3,
   "id": "b0efd5ce",
   "metadata": {},
   "outputs": [],
   "source": [
    "sentence = '''Hello, I'm Mario!'''"
   ]
  },
  {
   "cell_type": "markdown",
   "id": "92d19883",
   "metadata": {},
   "source": [
    "### Exercise Variables - 4\n",
    "Create an amount variable and assign a float value to it."
   ]
  },
  {
   "cell_type": "code",
   "execution_count": 4,
   "id": "5fe7459b",
   "metadata": {},
   "outputs": [],
   "source": [
    "amount = 1."
   ]
  },
  {
   "cell_type": "markdown",
   "id": "2810c044",
   "metadata": {},
   "source": [
    "### Exercise Variables - 5\n",
    "Create a set of 3 variables and assign True as value of each one."
   ]
  },
  {
   "cell_type": "code",
   "execution_count": 5,
   "id": "75c8d8a8",
   "metadata": {},
   "outputs": [],
   "source": [
    "a = True\n",
    "b = True\n",
    "c = True\n",
    "set_abc = set((a, b, c))"
   ]
  },
  {
   "cell_type": "markdown",
   "id": "c1c0563a",
   "metadata": {},
   "source": [
    "### Exercise Variables - 6\n",
    "Remove the illegal characters in the variable 1my-first2_Name = 'Mario'."
   ]
  },
  {
   "cell_type": "code",
   "execution_count": 6,
   "id": "95e06c08",
   "metadata": {},
   "outputs": [],
   "source": [
    "string = \"1my-first2_Name = 'Mario'\"\n",
    "\n",
    "special_characters='[@_!#$%^&*()<>?/\\|}{~:]'\n",
    "\n",
    "for i in special_characters:\n",
    "    string=string.replace(i,\"\")"
   ]
  },
  {
   "cell_type": "code",
   "execution_count": 7,
   "id": "e7ff7c09",
   "metadata": {},
   "outputs": [
    {
     "data": {
      "text/plain": [
       "\"1my-first2Name = 'Mario'\""
      ]
     },
     "execution_count": 7,
     "metadata": {},
     "output_type": "execute_result"
    }
   ],
   "source": [
    "string"
   ]
  },
  {
   "cell_type": "markdown",
   "id": "424604fb",
   "metadata": {},
   "source": [
    "### Exercise Variables - 7\n",
    "Write single quotes or double quotes correctly"
   ]
  },
  {
   "cell_type": "code",
   "execution_count": 8,
   "id": "38d70066",
   "metadata": {},
   "outputs": [
    {
     "name": "stdout",
     "output_type": "stream",
     "text": [
      "Hi\n",
      "my name is\n",
      "John Doe\n"
     ]
    }
   ],
   "source": [
    "print(\"Hi\\nmy name is\\nJohn Doe\")"
   ]
  },
  {
   "cell_type": "code",
   "execution_count": 9,
   "id": "c82e5713",
   "metadata": {},
   "outputs": [
    {
     "name": "stdout",
     "output_type": "stream",
     "text": [
      "python\n"
     ]
    }
   ],
   "source": [
    "print('python')"
   ]
  },
  {
   "cell_type": "markdown",
   "id": "7f3d3482",
   "metadata": {},
   "source": [
    "### Exercise Variables - 8\n",
    "Create 3 different variables and assign 3 different values. Write only one operation. Print them on terminal"
   ]
  },
  {
   "cell_type": "code",
   "execution_count": 10,
   "id": "a3fce22f",
   "metadata": {},
   "outputs": [
    {
     "name": "stdout",
     "output_type": "stream",
     "text": [
      "2\n"
     ]
    }
   ],
   "source": [
    "a = 321\n",
    "b = 5\n",
    "c = 2\n",
    "\n",
    "print(a >> b >> c)"
   ]
  },
  {
   "cell_type": "markdown",
   "id": "5e242a7a",
   "metadata": {},
   "source": [
    "### Exercise Variables - 9\n",
    "Swap the value of the variables"
   ]
  },
  {
   "cell_type": "code",
   "execution_count": 11,
   "id": "e73a7166",
   "metadata": {},
   "outputs": [
    {
     "name": "stdout",
     "output_type": "stream",
     "text": [
      "12 Hello\n",
      "Hello 12\n"
     ]
    }
   ],
   "source": [
    "a = 12\n",
    "b = 'Hello'\n",
    "print(a, b)\n",
    "\n",
    "temp = a\n",
    "a = b \n",
    "b = temp\n",
    "print(a, b)"
   ]
  },
  {
   "cell_type": "markdown",
   "id": "343f354e",
   "metadata": {},
   "source": [
    "### Exercise Variables - 10\n",
    "Print the length of each variable."
   ]
  },
  {
   "cell_type": "code",
   "execution_count": 12,
   "id": "49aaee15",
   "metadata": {},
   "outputs": [
    {
     "name": "stdout",
     "output_type": "stream",
     "text": [
      "Length of string variables hello, name and age are 6, 8, 2\n"
     ]
    }
   ],
   "source": [
    "hello = 'Hello!'\n",
    "name = 'Jhon Doe'\n",
    "age = '40'\n",
    "\n",
    "print(f\"Length of string variables hello, name and age are {len(hello)}, {len(name)}, {len(age)}\")"
   ]
  },
  {
   "cell_type": "markdown",
   "id": "eb6b1dd0",
   "metadata": {},
   "source": [
    "### Exercise Variables - 11\n",
    "Modify the variables as suggested\n",
    "\n",
    "a = 'hello' #capitalize\n",
    "<br>b = 'tom' #uppercase\n",
    "<br>c = 'LAURA' #lowercase\n",
    "<br>question = 'How are you' #change o to e\n",
    "<br>age_question = 'How old are you?' #use the correct method to create a string for each word\n",
    "<br>print(a, b, c, question, age_question)"
   ]
  },
  {
   "cell_type": "code",
   "execution_count": 13,
   "id": "50fca8db",
   "metadata": {},
   "outputs": [
    {
     "name": "stdout",
     "output_type": "stream",
     "text": [
      "Hello\n",
      "TOM\n",
      "laura\n",
      "Hew are yeu\n",
      "['How', 'old', 'are', 'you?']\n"
     ]
    }
   ],
   "source": [
    "a = 'hello'\n",
    "b = 'tom'\n",
    "c = 'LAURA'\n",
    "question = 'How are you'\n",
    "age_question = 'How old are you?'\n",
    "\n",
    "print(a.capitalize())\n",
    "print(b.upper())\n",
    "print(c.lower())\n",
    "print(question.replace(\"o\", \"e\"))\n",
    "print(age_question.split())"
   ]
  },
  {
   "cell_type": "markdown",
   "id": "5f1a3995",
   "metadata": {},
   "source": [
    "### Exercise Variables - 12\n",
    "\n",
    "Create two variables called name and age. Then create a variable called hello and print the name and the age. Use the formatted string literal."
   ]
  },
  {
   "cell_type": "code",
   "execution_count": 14,
   "id": "525fc273",
   "metadata": {},
   "outputs": [
    {
     "name": "stdout",
     "output_type": "stream",
     "text": [
      "Hello, Mike. You are 30\n"
     ]
    }
   ],
   "source": [
    "name = 'Mike'\n",
    "age = 30\n",
    "hello = \"Hello, {name}. You are {age}\".format(name = name, age = age)\n",
    "print(hello)"
   ]
  },
  {
   "cell_type": "markdown",
   "id": "06a59978",
   "metadata": {},
   "source": [
    "### Exercise Operators - 1\n",
    "Insert the appropriate logical operator in order to print False"
   ]
  },
  {
   "cell_type": "code",
   "execution_count": 15,
   "id": "22ae58d9",
   "metadata": {},
   "outputs": [
    {
     "name": "stdout",
     "output_type": "stream",
     "text": [
      "False\n"
     ]
    }
   ],
   "source": [
    "print(False and True)"
   ]
  },
  {
   "cell_type": "markdown",
   "id": "311a74e3",
   "metadata": {},
   "source": [
    "### Exercise Operators - 2\n",
    "Change the logical operators in order to print True"
   ]
  },
  {
   "cell_type": "code",
   "execution_count": 16,
   "id": "9eeef1f1",
   "metadata": {},
   "outputs": [
    {
     "name": "stdout",
     "output_type": "stream",
     "text": [
      "True\n"
     ]
    }
   ],
   "source": [
    "print(False or True)"
   ]
  },
  {
   "cell_type": "markdown",
   "id": "e604fc32",
   "metadata": {},
   "source": [
    "### Exercise Operators - 3\n",
    "Print the remainder of the 5/2 division"
   ]
  },
  {
   "cell_type": "code",
   "execution_count": 17,
   "id": "22584097",
   "metadata": {},
   "outputs": [
    {
     "name": "stdout",
     "output_type": "stream",
     "text": [
      "1\n"
     ]
    }
   ],
   "source": [
    "print(5%2)"
   ]
  },
  {
   "cell_type": "markdown",
   "id": "bca1fbf8",
   "metadata": {},
   "source": [
    "### Exercise Operators - 4\n",
    "Insert the appropriate logical operator in order to print True."
   ]
  },
  {
   "cell_type": "code",
   "execution_count": 18,
   "id": "2efa1a3c",
   "metadata": {},
   "outputs": [
    {
     "name": "stdout",
     "output_type": "stream",
     "text": [
      "True\n"
     ]
    }
   ],
   "source": [
    "print(not (\"testing\" == \"testing\" and \"Mario\" == \"Cool Guy\")) # Should print True"
   ]
  },
  {
   "cell_type": "markdown",
   "id": "07b7afba",
   "metadata": {},
   "source": [
    "### Exercise Operators - 5\n",
    "Initialize and print the sentence variable using the appropriate operators."
   ]
  },
  {
   "cell_type": "code",
   "execution_count": 19,
   "id": "f15652a9",
   "metadata": {},
   "outputs": [
    {
     "name": "stdout",
     "output_type": "stream",
     "text": [
      "Mario Rossi\n"
     ]
    }
   ],
   "source": [
    "firstName = \"Mario\"\n",
    "lastName = \"Rossi\"\n",
    "\n",
    "sentence = firstName + ' ' + lastName\n",
    "\n",
    "print(sentence) # Should print \"Mario Rossi\""
   ]
  },
  {
   "cell_type": "markdown",
   "id": "bf5e200c",
   "metadata": {},
   "source": [
    "### Exercise Operators - 6\n",
    "Check if \"Nike\" is in brands array using the appropriate logical operator"
   ]
  },
  {
   "cell_type": "code",
   "execution_count": 20,
   "id": "2c3dda1b",
   "metadata": {},
   "outputs": [
    {
     "name": "stdout",
     "output_type": "stream",
     "text": [
      "True\n"
     ]
    }
   ],
   "source": [
    "brands = [\"Adidas\", \"Nike\"]\n",
    "\n",
    "print(\"Nike\" in brands) # Should print True"
   ]
  },
  {
   "cell_type": "markdown",
   "id": "6c726249",
   "metadata": {},
   "source": [
    "### Exercise Operators - 7\n",
    "Check if \"Reebok\" is not in brands array using the appropriate logical operator"
   ]
  },
  {
   "cell_type": "code",
   "execution_count": 21,
   "id": "8cedde78",
   "metadata": {},
   "outputs": [
    {
     "name": "stdout",
     "output_type": "stream",
     "text": [
      "True\n"
     ]
    }
   ],
   "source": [
    "brands = [\"Adidas\", \"Nike\"]\n",
    "\n",
    "print(\"Reebok\" not in brands) # Should print True"
   ]
  },
  {
   "cell_type": "markdown",
   "id": "cb73d5da",
   "metadata": {},
   "source": [
    "### Exercise Methods - 1\n",
    "With type command you can see the type of a variable in python eg: type(1) print each components type with this way you can see most significant data types in python"
   ]
  },
  {
   "cell_type": "code",
   "execution_count": 22,
   "id": "2f165b73",
   "metadata": {},
   "outputs": [
    {
     "name": "stdout",
     "output_type": "stream",
     "text": [
      "<class 'str'>\n",
      "<class 'bool'>\n",
      "<class 'bool'>\n",
      "<class 'int'>\n",
      "<class 'float'>\n",
      "<class 'complex'>\n",
      "<class 'complex'>\n",
      "<class 'list'>\n",
      "<class 'tuple'>\n",
      "<class 'dict'>\n",
      "<class 'set'>\n"
     ]
    }
   ],
   "source": [
    "print(type(\"Hello World\"))\n",
    "print(type(True))\n",
    "print(type(False))\n",
    "print(type(33))\n",
    "print(type(24.5))\n",
    "print(type(4+1j))\n",
    "print(type(4j))\n",
    "print(type([\"lion\", \"monkey\", \"dog\",\"fish\"]))\n",
    "print(type((\"lion\", \"monkey\", \"dog\",\"fish\")))\n",
    "print(type({\"name\" : \"John\", \"surname\" : \"Doe\", \"age\":22}))\n",
    "print(type({\"lion\", \"monkey\", \"dog\",\"fish\"}))"
   ]
  },
  {
   "cell_type": "markdown",
   "id": "ffc9930f",
   "metadata": {},
   "source": [
    "### Exercise Methods - 2\n",
    "the number types can be converted to each other wit the int() float() complex() methods also float numbers can be rounded with the method round()\n",
    "\n",
    "<br>convert num1 to float and assign to itself\n",
    "<br>convert num2 to int and assign to itself\n",
    "<br>convert num3 to complex and assign to itself\n",
    "<br>use round method for num4 and assign to itself\n",
    "<br>use round method for num5 and assign to itself\n",
    "<br>print them all\n",
    "<br>print their types"
   ]
  },
  {
   "cell_type": "code",
   "execution_count": 23,
   "id": "1da2b53f",
   "metadata": {},
   "outputs": [
    {
     "name": "stdout",
     "output_type": "stream",
     "text": [
      "\n",
      "num1 is 1.3 and its type is <class 'float'>,\n",
      "num2 is 2 and its type is <class 'int'>,\n",
      "num3 is 1j and its type is <class 'complex'>,\n",
      "num4 is 1 and its type is <class 'int'>,\n",
      "num5 is 2 and its type is <class 'int'>\n",
      "\n"
     ]
    }
   ],
   "source": [
    "num1 = 1.3\n",
    "num2 = 2.3\n",
    "num3 = 1j \n",
    "num4 = 1.4 \n",
    "num5 = 1.5\n",
    "\n",
    "num1 = float(num1)\n",
    "num2 = int(num2)\n",
    "num3 = complex(num3)\n",
    "num4 = round(num4)\n",
    "num5 = round(num5)\n",
    "print(f'''\n",
    "num1 is {num1} and its type is {type(num1)},\n",
    "num2 is {num2} and its type is {type(num2)},\n",
    "num3 is {num3} and its type is {type(num3)},\n",
    "num4 is {num4} and its type is {type(num4)},\n",
    "num5 is {num5} and its type is {type(num5)}\n",
    "''')"
   ]
  },
  {
   "cell_type": "markdown",
   "id": "03242836",
   "metadata": {},
   "source": [
    "### Exercise Methods - 3\n",
    "to convert a number to string we can use str() function this is called casting\n",
    "\n",
    "<br>cast num1 to string and assign to num1_str\n",
    "<br>check the length of the string\n",
    "<br>get the third element of string (the one in the 3rd order)\n",
    "<br>get the 3-5 elements of string (both inclusive) by string slicing\n",
    "<br>check if num2 in string (cast if necessary)\n",
    "<br>check if num3 in string (cast if necessary)\n",
    "<br>concatenate 0 to the string from left and assign to string_with_0\n",
    "<br>get the characters of string_with_0 from start to position 4 (end point exclusive)\n",
    "<br>get the characters of string_with_0 from position 5 until the end\n",
    "<br>use negative indexing to reach the \"566\" string_with_0"
   ]
  },
  {
   "cell_type": "code",
   "execution_count": 24,
   "id": "c660a494",
   "metadata": {},
   "outputs": [
    {
     "name": "stdout",
     "output_type": "stream",
     "text": [
      "13\n",
      "2\n",
      "223\n",
      "True\n",
      "True\n",
      "01122\n",
      "566\n"
     ]
    }
   ],
   "source": [
    "num1 = 1122334455666\n",
    "num1_str = str(num1)\n",
    "print(len(num1_str))\n",
    "num2 = num1_str[2]\n",
    "num3 = num1_str[2:5]\n",
    "print(num2)\n",
    "print(num3)\n",
    "print(num2 in num1_str)\n",
    "print(num3 in num1_str)\n",
    "string_with_0 = '0' + num1_str\n",
    "print(string_with_0[:5])\n",
    "print(string_with_0[-4:-1])"
   ]
  },
  {
   "cell_type": "markdown",
   "id": "1e67e707",
   "metadata": {},
   "source": [
    "### Exercise Conditions - 1\n",
    "print if num1 or num2 is greater num1 = 335 num2 = 66"
   ]
  },
  {
   "cell_type": "code",
   "execution_count": 25,
   "id": "02b0b5a1",
   "metadata": {},
   "outputs": [
    {
     "name": "stdout",
     "output_type": "stream",
     "text": [
      "335 is greater than 66\n"
     ]
    }
   ],
   "source": [
    "num1 = 335\n",
    "num2 = 66\n",
    "\n",
    "if num1 > num2:\n",
    "    print(f\"{num1} is greater than {num2}\")\n",
    "else:\n",
    "    print(f\"{num1} is not greater than {num2}\")"
   ]
  },
  {
   "cell_type": "markdown",
   "id": "2e7d881f",
   "metadata": {},
   "source": [
    "### Exercise Conditions - 2\n",
    "check if number1 is greater than number 2 and print number1 is greater than number2 then check and if number 2 is greater than number 1 and print number2 is greater than number1 finally at the end if both conditions incorrect print number2 equals to number1\n",
    "\n",
    "number1 = 66 number2 = 66"
   ]
  },
  {
   "cell_type": "code",
   "execution_count": 26,
   "id": "82420f44",
   "metadata": {},
   "outputs": [
    {
     "name": "stdout",
     "output_type": "stream",
     "text": [
      "66 equals to 66\n"
     ]
    }
   ],
   "source": [
    "number1 = 66\n",
    "number2 = 66\n",
    "\n",
    "if number1 > number2:\n",
    "    print(f\"{number1} is greater than {number2}\")\n",
    "elif number2 > number1:\n",
    "    print(f\"{number2} is greater than {number1}\")    \n",
    "else:\n",
    "    print(f\"{number1} equals to {number2}\")\n"
   ]
  },
  {
   "cell_type": "markdown",
   "id": "6d21887a",
   "metadata": {},
   "source": [
    "### Exercise Conditions - 3\n",
    "Compare those 2 numbers and write X greater than Y But be sure you are making the check for all the conditions"
   ]
  },
  {
   "cell_type": "code",
   "execution_count": 27,
   "id": "04b8a16c",
   "metadata": {},
   "outputs": [
    {
     "name": "stdout",
     "output_type": "stream",
     "text": [
      "92 is greater than 69\n"
     ]
    }
   ],
   "source": [
    "import random\n",
    "\n",
    "number1 = random.randint(1,100)\n",
    "number2 = random.randint(1,100)\n",
    "\n",
    "# Compare the numbers to eachother \n",
    "\n",
    "if number1 > number2:\n",
    "    print(f\"{number1} is greater than {number2}\")\n",
    "elif number2 > number1:\n",
    "    print(f\"{number2} is greater than {number1}\")    \n",
    "else:\n",
    "    print(f\"{number1} equals to {number2}\")"
   ]
  },
  {
   "cell_type": "markdown",
   "id": "80f7714b",
   "metadata": {},
   "source": [
    "### Exercise Conditions - 4\n",
    "Compare those 2 numbers' absolute values and write X's absolute value greater than Y's absolute value Use abs function to do that\n",
    "eg.\n",
    "abs(-5) -> 5\n",
    "abs function makes all numbers positive"
   ]
  },
  {
   "cell_type": "code",
   "execution_count": 28,
   "id": "f52eea43",
   "metadata": {},
   "outputs": [
    {
     "name": "stdout",
     "output_type": "stream",
     "text": [
      "94's absolute value greater than -90's absolute value\n"
     ]
    }
   ],
   "source": [
    "import random\n",
    "\n",
    "number1 = random.randint(-100,100)\n",
    "number2 = random.randint(-100,100)\n",
    "\n",
    "if abs(number1) > abs(number2):\n",
    "    print(f\"{number1}'s absolute value greater than {number2}'s absolute value\")\n",
    "elif abs(number2) > abs(number1):\n",
    "    print(f\"{number2}'s absolute value greater than {number1}'s absolute value\")    \n",
    "else:\n",
    "    print(f\"{number1}'s absolute value is equal to {number2}'s absolute value\")"
   ]
  }
 ],
 "metadata": {
  "kernelspec": {
   "display_name": "Python 3 (ipykernel)",
   "language": "python",
   "name": "python3"
  },
  "language_info": {
   "codemirror_mode": {
    "name": "ipython",
    "version": 3
   },
   "file_extension": ".py",
   "mimetype": "text/x-python",
   "name": "python",
   "nbconvert_exporter": "python",
   "pygments_lexer": "ipython3",
   "version": "3.9.12"
  }
 },
 "nbformat": 4,
 "nbformat_minor": 5
}
